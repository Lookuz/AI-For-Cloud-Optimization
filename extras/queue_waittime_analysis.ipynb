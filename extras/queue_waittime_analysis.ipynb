{
 "cells": [
  {
   "cell_type": "code",
   "execution_count": 1,
   "metadata": {},
   "outputs": [],
   "source": [
    "import os\n",
    "import json\n",
    "import sys\n",
    "import numpy as np\n",
    "import pandas as pd\n",
    "import matplotlib as mpl\n",
    "import matplotlib.pyplot as plt\n",
    "import seaborn as sns\n",
    "from write_csv import read_pkl\n",
    "from ai_cloud_etl import data_extract_e"
   ]
  },
  {
   "cell_type": "code",
   "execution_count": 2,
   "metadata": {},
   "outputs": [],
   "source": [
    "# Global Variables\n",
    "JOB_LOGS = 'e_20190609_15.pkl'"
   ]
  },
  {
   "cell_type": "code",
   "execution_count": 3,
   "metadata": {},
   "outputs": [],
   "source": [
    "# Plots the correlation matrix for a given dataset\n",
    "def corr_heatmap(df):\n",
    "    corr_mat = df.corr()\n",
    "\n",
    "    fig, ax = plt.subplots(figsize=(15, 8))\n",
    "    color_map = sns.diverging_palette(220, 10, as_cmap=True)\n",
    "    \n",
    "    sns.heatmap(corr_mat, cmap=color_map, annot=True, fmt='0.4f')\n",
    "    \n",
    "    plt.xticks(range(len(corr_mat.columns)), corr_mat.columns)\n",
    "    plt.yticks(range(len(corr_mat.columns)), corr_mat.columns)\n",
    "    plt.show()"
   ]
  },
  {
   "cell_type": "code",
   "execution_count": 4,
   "metadata": {},
   "outputs": [],
   "source": [
    "# Data Extraction\n",
    "df = pd.DataFrame()\n",
    "df = df.append(read_pkl(JOB_LOGS)[0], sort=True)"
   ]
  },
  {
   "cell_type": "code",
   "execution_count": 5,
   "metadata": {
    "scrolled": true
   },
   "outputs": [
    {
     "data": {
      "text/html": [
       "<div>\n",
       "<style scoped>\n",
       "    .dataframe tbody tr th:only-of-type {\n",
       "        vertical-align: middle;\n",
       "    }\n",
       "\n",
       "    .dataframe tbody tr th {\n",
       "        vertical-align: top;\n",
       "    }\n",
       "\n",
       "    .dataframe thead th {\n",
       "        text-align: right;\n",
       "    }\n",
       "</style>\n",
       "<table border=\"1\" class=\"dataframe\">\n",
       "  <thead>\n",
       "    <tr style=\"text-align: right;\">\n",
       "      <th></th>\n",
       "      <th>queue</th>\n",
       "      <th>count</th>\n",
       "    </tr>\n",
       "  </thead>\n",
       "  <tbody>\n",
       "    <tr>\n",
       "      <th>0</th>\n",
       "      <td>short</td>\n",
       "      <td>191286</td>\n",
       "    </tr>\n",
       "    <tr>\n",
       "      <th>8</th>\n",
       "      <td>parallel20</td>\n",
       "      <td>516396</td>\n",
       "    </tr>\n",
       "    <tr>\n",
       "      <th>14</th>\n",
       "      <td>parallel8</td>\n",
       "      <td>421956</td>\n",
       "    </tr>\n",
       "    <tr>\n",
       "      <th>1420</th>\n",
       "      <td>parallel12</td>\n",
       "      <td>14198</td>\n",
       "    </tr>\n",
       "    <tr>\n",
       "      <th>4477</th>\n",
       "      <td>volta_gpu</td>\n",
       "      <td>1619</td>\n",
       "    </tr>\n",
       "    <tr>\n",
       "      <th>6574</th>\n",
       "      <td>serial</td>\n",
       "      <td>8483</td>\n",
       "    </tr>\n",
       "    <tr>\n",
       "      <th>7036</th>\n",
       "      <td>parallel24</td>\n",
       "      <td>2834</td>\n",
       "    </tr>\n",
       "    <tr>\n",
       "      <th>7975</th>\n",
       "      <td>volta_login</td>\n",
       "      <td>508</td>\n",
       "    </tr>\n",
       "    <tr>\n",
       "      <th>8007</th>\n",
       "      <td>dmlogina8</td>\n",
       "      <td>314</td>\n",
       "    </tr>\n",
       "    <tr>\n",
       "      <th>8159</th>\n",
       "      <td>Q3100</td>\n",
       "      <td>1105</td>\n",
       "    </tr>\n",
       "    <tr>\n",
       "      <th>9318</th>\n",
       "      <td>gpu</td>\n",
       "      <td>929</td>\n",
       "    </tr>\n",
       "    <tr>\n",
       "      <th>14052</th>\n",
       "      <td>openmp</td>\n",
       "      <td>808</td>\n",
       "    </tr>\n",
       "    <tr>\n",
       "      <th>31416</th>\n",
       "      <td>iworkq</td>\n",
       "      <td>980</td>\n",
       "    </tr>\n",
       "    <tr>\n",
       "      <th>34454</th>\n",
       "      <td>dmlogina6</td>\n",
       "      <td>243</td>\n",
       "    </tr>\n",
       "    <tr>\n",
       "      <th>56530</th>\n",
       "      <td>C2100</td>\n",
       "      <td>173</td>\n",
       "    </tr>\n",
       "    <tr>\n",
       "      <th>56640</th>\n",
       "      <td>dmlogina5</td>\n",
       "      <td>47</td>\n",
       "    </tr>\n",
       "    <tr>\n",
       "      <th>56720</th>\n",
       "      <td>azgpu</td>\n",
       "      <td>68</td>\n",
       "    </tr>\n",
       "    <tr>\n",
       "      <th>56838</th>\n",
       "      <td>dmlogina7</td>\n",
       "      <td>87</td>\n",
       "    </tr>\n",
       "    <tr>\n",
       "      <th>57310</th>\n",
       "      <td>Q3200</td>\n",
       "      <td>58</td>\n",
       "    </tr>\n",
       "    <tr>\n",
       "      <th>312</th>\n",
       "      <td>parallel_test</td>\n",
       "      <td>84</td>\n",
       "    </tr>\n",
       "    <tr>\n",
       "      <th>7556</th>\n",
       "      <td>workshop</td>\n",
       "      <td>70</td>\n",
       "    </tr>\n",
       "    <tr>\n",
       "      <th>38339</th>\n",
       "      <td>Q3500</td>\n",
       "      <td>8</td>\n",
       "    </tr>\n",
       "    <tr>\n",
       "      <th>57787</th>\n",
       "      <td>benchmark</td>\n",
       "      <td>3</td>\n",
       "    </tr>\n",
       "  </tbody>\n",
       "</table>\n",
       "</div>"
      ],
      "text/plain": [
       "               queue   count\n",
       "0              short  191286\n",
       "8         parallel20  516396\n",
       "14         parallel8  421956\n",
       "1420      parallel12   14198\n",
       "4477       volta_gpu    1619\n",
       "6574          serial    8483\n",
       "7036      parallel24    2834\n",
       "7975     volta_login     508\n",
       "8007       dmlogina8     314\n",
       "8159           Q3100    1105\n",
       "9318             gpu     929\n",
       "14052         openmp     808\n",
       "31416         iworkq     980\n",
       "34454      dmlogina6     243\n",
       "56530          C2100     173\n",
       "56640      dmlogina5      47\n",
       "56720          azgpu      68\n",
       "56838      dmlogina7      87\n",
       "57310          Q3200      58\n",
       "312    parallel_test      84\n",
       "7556        workshop      70\n",
       "38339          Q3500       8\n",
       "57787      benchmark       3"
      ]
     },
     "execution_count": 5,
     "metadata": {},
     "output_type": "execute_result"
    }
   ],
   "source": [
    "# Frequency of jobs per queue\n",
    "df_freq = pd.DataFrame()\n",
    "df_freq['queue'] = df['queue']\n",
    "df_freq['count'] = df_freq.groupby('queue')['queue'].transform('count')\n",
    "df_freq = df_freq.drop_duplicates()\n",
    "df_freq"
   ]
  },
  {
   "cell_type": "code",
   "execution_count": 6,
   "metadata": {},
   "outputs": [],
   "source": [
    "# Extract data from a single queue\n",
    "df = df[df['queue'] == 'short']"
   ]
  },
  {
   "cell_type": "code",
   "execution_count": 7,
   "metadata": {},
   "outputs": [
    {
     "name": "stderr",
     "output_type": "stream",
     "text": [
      "/usr/local/lib/python3.7/site-packages/ipykernel_launcher.py:3: SettingWithCopyWarning: \n",
      "A value is trying to be set on a copy of a slice from a DataFrame.\n",
      "Try using .loc[row_indexer,col_indexer] = value instead\n",
      "\n",
      "See the caveats in the documentation: http://pandas.pydata.org/pandas-docs/stable/indexing.html#indexing-view-versus-copy\n",
      "  This is separate from the ipykernel package so we can avoid doing imports until\n"
     ]
    }
   ],
   "source": [
    "# Extract range of dates to work with\n",
    "df_wt = df[['qtime']]\n",
    "df_wt['qtime'] = df_wt['qtime'].dt.date\n",
    "df_wt = df_wt.drop_duplicates()"
   ]
  },
  {
   "cell_type": "code",
   "execution_count": 8,
   "metadata": {},
   "outputs": [],
   "source": [
    "# Get number of running jobs per day\n",
    "\n",
    "# Function to extract number of running jobs for the day\n",
    "# Returns a single value containing the number of running jobs that day\n",
    "def get_num_jobs(date):\n",
    "    return len(df[(df['start'].dt.date <= date) & (df['etime'].dt.date >= date)])\n",
    "\n",
    "df_wt['num_jobs'] = df_wt['qtime'].apply(lambda x: get_num_jobs(x))"
   ]
  },
  {
   "cell_type": "code",
   "execution_count": 9,
   "metadata": {},
   "outputs": [],
   "source": [
    "# Get average wait time per day\n",
    "\n",
    "# Function that gets the average wait time for a specific date\n",
    "# Takes the wait times of jobs that were queued on specified date\n",
    "def get_avg_wt(date):\n",
    "    return df[df['qtime'].dt.date == date]['wait_time'].mean()\n",
    "\n",
    "df_wt['wait_time'] = df_wt['qtime'].apply(lambda x: get_avg_wt(x))"
   ]
  },
  {
   "cell_type": "code",
   "execution_count": 11,
   "metadata": {},
   "outputs": [
    {
     "data": {
      "text/plain": [
       "<matplotlib.axes._subplots.AxesSubplot at 0x193dd8a58>"
      ]
     },
     "execution_count": 11,
     "metadata": {},
     "output_type": "execute_result"
    },
    {
     "data": {
      "image/png": "[encoded data removed]",
      "text/plain": [
       "<Figure size 432x288 with 1 Axes>"
      ]
     },
     "metadata": {
      "needs_background": "light"
     },
     "output_type": "display_data"
    }
   ],
   "source": [
    "df_wt['num_jobs'].apply(lambda x: np.log2(x + 0.02)).hist() # Apply log scaling to even out the distribution"
   ]
  },
  {
   "cell_type": "code",
   "execution_count": 12,
   "metadata": {},
   "outputs": [
    {
     "data": {
      "text/plain": [
       "<matplotlib.axes._subplots.AxesSubplot at 0x193da96a0>"
      ]
     },
     "execution_count": 12,
     "metadata": {},
     "output_type": "execute_result"
    },
    {
     "data": {
      "image/png": "[encoded data removed]",
      "text/plain": [
       "<Figure size 432x288 with 1 Axes>"
      ]
     },
     "metadata": {
      "needs_background": "light"
     },
     "output_type": "display_data"
    }
   ],
   "source": [
    "df_wt['wait_time'].apply(lambda x: np.log2(x + 0.02)).hist() # Apply log scaling to even out the distribution"
   ]
  },
  {
   "cell_type": "code",
   "execution_count": 13,
   "metadata": {},
   "outputs": [
    {
     "data": {
      "text/plain": [
       "<matplotlib.axes._subplots.AxesSubplot at 0x193d6a6a0>"
      ]
     },
     "execution_count": 13,
     "metadata": {},
     "output_type": "execute_result"
    },
    {
     "data": {
      "image/png": "[encoded data removed]",
      "text/plain": [
       "<Figure size 432x288 with 1 Axes>"
      ]
     },
     "metadata": {
      "needs_background": "light"
     },
     "output_type": "display_data"
    }
   ],
   "source": [
    "df_wt['num_jobs'] = df_wt['num_jobs'].apply(lambda x: np.log2(x + 0.02))\n",
    "df_wt['wait_time'] = df_wt['wait_time'].apply(lambda x: np.log2(x + 0.02))\n",
    "df_wt.plot(x='num_jobs', y='wait_time', style='o')"
   ]
  },
  {
   "cell_type": "code",
   "execution_count": 14,
   "metadata": {},
   "outputs": [
    {
     "data": {
      "text/html": [
       "<div>\n",
       "<style scoped>\n",
       "    .dataframe tbody tr th:only-of-type {\n",
       "        vertical-align: middle;\n",
       "    }\n",
       "\n",
       "    .dataframe tbody tr th {\n",
       "        vertical-align: top;\n",
       "    }\n",
       "\n",
       "    .dataframe thead th {\n",
       "        text-align: right;\n",
       "    }\n",
       "</style>\n",
       "<table border=\"1\" class=\"dataframe\">\n",
       "  <thead>\n",
       "    <tr style=\"text-align: right;\">\n",
       "      <th></th>\n",
       "      <th>qtime</th>\n",
       "      <th>num_jobs</th>\n",
       "      <th>wait_time</th>\n",
       "    </tr>\n",
       "  </thead>\n",
       "  <tbody>\n",
       "    <tr>\n",
       "      <th>0</th>\n",
       "      <td>2019-05-17</td>\n",
       "      <td>14.285765</td>\n",
       "      <td>14.989777</td>\n",
       "    </tr>\n",
       "    <tr>\n",
       "      <th>192</th>\n",
       "      <td>2019-05-16</td>\n",
       "      <td>13.290742</td>\n",
       "      <td>13.908496</td>\n",
       "    </tr>\n",
       "    <tr>\n",
       "      <th>53936</th>\n",
       "      <td>2019-05-18</td>\n",
       "      <td>5.883132</td>\n",
       "      <td>3.334539</td>\n",
       "    </tr>\n",
       "    <tr>\n",
       "      <th>55521</th>\n",
       "      <td>2019-04-24</td>\n",
       "      <td>5.883132</td>\n",
       "      <td>4.888169</td>\n",
       "    </tr>\n",
       "    <tr>\n",
       "      <th>55748</th>\n",
       "      <td>2019-04-25</td>\n",
       "      <td>6.170326</td>\n",
       "      <td>2.237088</td>\n",
       "    </tr>\n",
       "  </tbody>\n",
       "</table>\n",
       "</div>"
      ],
      "text/plain": [
       "            qtime   num_jobs  wait_time\n",
       "0      2019-05-17  14.285765  14.989777\n",
       "192    2019-05-16  13.290742  13.908496\n",
       "53936  2019-05-18   5.883132   3.334539\n",
       "55521  2019-04-24   5.883132   4.888169\n",
       "55748  2019-04-25   6.170326   2.237088"
      ]
     },
     "execution_count": 14,
     "metadata": {},
     "output_type": "execute_result"
    }
   ],
   "source": [
    "df_wt.head(5)"
   ]
  },
  {
   "cell_type": "code",
   "execution_count": 67,
   "metadata": {},
   "outputs": [],
   "source": [
    "# Plot average runtime of running jobs per day\n",
    "\n",
    "# Function that extracts average walltime of jobs for specified date\n",
    "def get_avg_wt(date):\n",
    "    return df[(df['start'].dt.date <= date) & (df['etime'].dt.date >= date)]['resources_used.walltime'].mean()\n",
    "\n",
    "# Function that extracts average CPU time of jobs for specified date\n",
    "def get_avg_cput(date):\n",
    "    return df[(df['start'].dt.date <= date) & (df['etime'].dt.date >= date)]['resources_used.cput'].mean()"
   ]
  },
  {
   "cell_type": "code",
   "execution_count": 68,
   "metadata": {
    "scrolled": true
   },
   "outputs": [],
   "source": [
    "df_wt['avg_walltime'] = df_wt['qtime'].apply(lambda x: get_avg_wt(x))\n",
    "df_wt['avg_cput'] = df_wt['qtime'].apply(lambda x: get_avg_cput(x))"
   ]
  },
  {
   "cell_type": "code",
   "execution_count": 69,
   "metadata": {},
   "outputs": [
    {
     "data": {
      "text/plain": [
       "<matplotlib.axes._subplots.AxesSubplot at 0x12a798ba8>"
      ]
     },
     "execution_count": 69,
     "metadata": {},
     "output_type": "execute_result"
    },
    {
     "data": {
      "image/png": "[encoded data removed]",
      "text/plain": [
       "<Figure size 432x288 with 1 Axes>"
      ]
     },
     "metadata": {
      "needs_background": "light"
     },
     "output_type": "display_data"
    }
   ],
   "source": [
    "df_wt['avg_walltime'] = df_wt['avg_walltime'].apply(lambda x: np.log2(x))\n",
    "df_wt['avg_walltime'].hist()"
   ]
  },
  {
   "cell_type": "code",
   "execution_count": 70,
   "metadata": {
    "scrolled": true
   },
   "outputs": [
    {
     "data": {
      "text/plain": [
       "<matplotlib.axes._subplots.AxesSubplot at 0x12ebf12e8>"
      ]
     },
     "execution_count": 70,
     "metadata": {},
     "output_type": "execute_result"
    },
    {
     "data": {
      "image/png": "[encoded data removed]",
      "text/plain": [
       "<Figure size 432x288 with 1 Axes>"
      ]
     },
     "metadata": {
      "needs_background": "light"
     },
     "output_type": "display_data"
    }
   ],
   "source": [
    "df_wt.plot(x='avg_walltime', y='wait_time', style='o')"
   ]
  },
  {
   "cell_type": "code",
   "execution_count": 71,
   "metadata": {},
   "outputs": [
    {
     "data": {
      "text/plain": [
       "<matplotlib.axes._subplots.AxesSubplot at 0x12a792f98>"
      ]
     },
     "execution_count": 71,
     "metadata": {},
     "output_type": "execute_result"
    },
    {
     "data": {
      "image/png": "[encoded data removed]",
      "text/plain": [
       "<Figure size 432x288 with 1 Axes>"
      ]
     },
     "metadata": {
      "needs_background": "light"
     },
     "output_type": "display_data"
    }
   ],
   "source": [
    "df_wt['avg_cput'] = df_wt['avg_cput'].apply(lambda x: np.log2(x))\n",
    "df_wt['avg_cput'].hist()"
   ]
  },
  {
   "cell_type": "code",
   "execution_count": 72,
   "metadata": {},
   "outputs": [
    {
     "data": {
      "text/plain": [
       "<matplotlib.axes._subplots.AxesSubplot at 0x12ebd41d0>"
      ]
     },
     "execution_count": 72,
     "metadata": {},
     "output_type": "execute_result"
    },
    {
     "data": {
      "image/png": "[encoded data removed]",
      "text/plain": [
       "<Figure size 432x288 with 1 Axes>"
      ]
     },
     "metadata": {
      "needs_background": "light"
     },
     "output_type": "display_data"
    }
   ],
   "source": [
    "df_wt.plot(x='avg_cput', y='wait_time', style='o')"
   ]
  },
  {
   "cell_type": "code",
   "execution_count": 27,
   "metadata": {},
   "outputs": [],
   "source": [
    "# Plot average number of cores of running jobs per day\n",
    "\n",
    "# Function that extracts average number of cores of running jobs per day\n",
    "def get_avg_cores(date):\n",
    "    return df[(df['start'].dt.date <= date) & (df['etime'].dt.date >= date)]['resources_used.ncpus'].mean()\n",
    "\n",
    "df_wt['avg_cores'] = df_wt['qtime'].apply(lambda x: get_avg_cores(x))"
   ]
  },
  {
   "cell_type": "code",
   "execution_count": 38,
   "metadata": {},
   "outputs": [
    {
     "data": {
      "text/plain": [
       "<matplotlib.axes._subplots.AxesSubplot at 0x16d612ba8>"
      ]
     },
     "execution_count": 38,
     "metadata": {},
     "output_type": "execute_result"
    },
    {
     "data": {
      "image/png": "[encoded data removed]",
      "text/plain": [
       "<Figure size 432x288 with 1 Axes>"
      ]
     },
     "metadata": {
      "needs_background": "light"
     },
     "output_type": "display_data"
    }
   ],
   "source": [
    "df_wt['avg_cores'].apply(lambda x: np.log2(x)).hist()"
   ]
  },
  {
   "cell_type": "code",
   "execution_count": 39,
   "metadata": {},
   "outputs": [
    {
     "data": {
      "text/plain": [
       "<matplotlib.axes._subplots.AxesSubplot at 0x16d629a58>"
      ]
     },
     "execution_count": 39,
     "metadata": {},
     "output_type": "execute_result"
    },
    {
     "data": {
      "image/png": "[encoded data removed]",
      "text/plain": [
       "<Figure size 432x288 with 1 Axes>"
      ]
     },
     "metadata": {
      "needs_background": "light"
     },
     "output_type": "display_data"
    }
   ],
   "source": [
    "df_wt.plot(x='avg_cores', y='wait_time', style='o')"
   ]
  },
  {
   "cell_type": "code",
   "execution_count": 60,
   "metadata": {},
   "outputs": [],
   "source": [
    "# Develop new metric - average number of cores * average runtime of running jobs * number of jobs\n",
    "\n",
    "# Compound number of jobs and average cores used\n",
    "num_jobs = df_wt['qtime'].apply(lambda x: get_num_jobs(x))\n",
    "avg_cores = df_wt['qtime'].apply(lambda x: get_avg_cores(x))\n",
    "df_wt['num_jobs_x_avg_cores'] = num_jobs * avg_cores"
   ]
  },
  {
   "cell_type": "code",
   "execution_count": 63,
   "metadata": {},
   "outputs": [
    {
     "data": {
      "text/plain": [
       "<matplotlib.axes._subplots.AxesSubplot at 0x138ed6fd0>"
      ]
     },
     "execution_count": 63,
     "metadata": {},
     "output_type": "execute_result"
    },
    {
     "data": {
      "image/png": "[encoded data removed]",
      "text/plain": [
       "<Figure size 432x288 with 1 Axes>"
      ]
     },
     "metadata": {
      "needs_background": "light"
     },
     "output_type": "display_data"
    }
   ],
   "source": [
    "df_wt['num_jobs_x_avg_cores'].apply(lambda x: np.log2(x) if x > 0 else 0).hist()"
   ]
  },
  {
   "cell_type": "code",
   "execution_count": 64,
   "metadata": {},
   "outputs": [],
   "source": [
    "df_wt['num_jobs_x_avg_cores'] = df_wt['num_jobs_x_avg_cores'].apply(lambda x: np.log2(x) if x > 0 else 0)"
   ]
  },
  {
   "cell_type": "code",
   "execution_count": 73,
   "metadata": {
    "scrolled": false
   },
   "outputs": [
    {
     "data": {
      "image/png": "[encoded data removed]",
      "text/plain": [
       "<Figure size 1080x576 with 2 Axes>"
      ]
     },
     "metadata": {
      "needs_background": "light"
     },
     "output_type": "display_data"
    }
   ],
   "source": [
    "corr_heatmap(df_wt)"
   ]
  },
  {
   "cell_type": "code",
   "execution_count": 66,
   "metadata": {},
   "outputs": [
    {
     "data": {
      "text/plain": [
       "<matplotlib.axes._subplots.AxesSubplot at 0x12ebc7470>"
      ]
     },
     "execution_count": 66,
     "metadata": {},
     "output_type": "execute_result"
    },
    {
     "data": {
      "image/png": "[encoded data removed]",
      "text/plain": [
       "<Figure size 432x288 with 1 Axes>"
      ]
     },
     "metadata": {
      "needs_background": "light"
     },
     "output_type": "display_data"
    }
   ],
   "source": [
    "df_wt.plot(x='num_jobs_x_avg_cores', y='wait_time', style='o')"
   ]
  },
  {
   "cell_type": "code",
   "execution_count": 84,
   "metadata": {},
   "outputs": [
    {
     "ename": "ImportError",
     "evalue": "cannot import name 'FILE_LR_L2' from 'recommendation_global' (/Users/lookaz/Documents/NUS IT/job_logs/model_development/recommendation_global.py)",
     "output_type": "error",
     "traceback": [
      "\u001b[0;31m---------------------------------------------------------------------------\u001b[0m",
      "\u001b[0;31mImportError\u001b[0m                               Traceback (most recent call last)",
      "\u001b[0;32m<ipython-input-84-7e3c26b8c81d>\u001b[0m in \u001b[0;36m<module>\u001b[0;34m\u001b[0m\n\u001b[1;32m      2\u001b[0m \u001b[0;34m\u001b[0m\u001b[0m\n\u001b[1;32m      3\u001b[0m \u001b[0;32mfrom\u001b[0m \u001b[0mai_cloud_etl\u001b[0m \u001b[0;32mimport\u001b[0m \u001b[0mdata_extract_e\u001b[0m\u001b[0;34m,\u001b[0m \u001b[0mdata_filter\u001b[0m\u001b[0;34m,\u001b[0m \u001b[0mfeature_eng\u001b[0m\u001b[0;34m,\u001b[0m \u001b[0mfeature_transform\u001b[0m\u001b[0;34m,\u001b[0m \u001b[0mextract_queues\u001b[0m\u001b[0;34m,\u001b[0m \u001b[0mfit_labels\u001b[0m\u001b[0;34m,\u001b[0m \u001b[0msave_data\u001b[0m\u001b[0;34m,\u001b[0m \u001b[0mload_data\u001b[0m\u001b[0;34m\u001b[0m\u001b[0;34m\u001b[0m\u001b[0m\n\u001b[0;32m----> 4\u001b[0;31m \u001b[0;32mfrom\u001b[0m \u001b[0mai_cloud_model\u001b[0m \u001b[0;32mimport\u001b[0m \u001b[0mload_model\u001b[0m\u001b[0;34m,\u001b[0m \u001b[0mload_models\u001b[0m\u001b[0;34m,\u001b[0m \u001b[0ml2_predict\u001b[0m\u001b[0;34m\u001b[0m\u001b[0;34m\u001b[0m\u001b[0m\n\u001b[0m\u001b[1;32m      5\u001b[0m \u001b[0;34m\u001b[0m\u001b[0m\n\u001b[1;32m      6\u001b[0m \u001b[0;31m# Data Extraction\u001b[0m\u001b[0;34m\u001b[0m\u001b[0;34m\u001b[0m\u001b[0;34m\u001b[0m\u001b[0m\n",
      "\u001b[0;32m~/Documents/NUS IT/job_logs/model_development/ai_cloud_model.py\u001b[0m in \u001b[0;36m<module>\u001b[0;34m\u001b[0m\n\u001b[1;32m      3\u001b[0m \u001b[0;32mfrom\u001b[0m \u001b[0mai_cloud_etl\u001b[0m \u001b[0;32mimport\u001b[0m \u001b[0msave_data\u001b[0m\u001b[0;34m,\u001b[0m \u001b[0mload_data\u001b[0m\u001b[0;34m\u001b[0m\u001b[0;34m\u001b[0m\u001b[0m\n\u001b[1;32m      4\u001b[0m \u001b[0;32mfrom\u001b[0m \u001b[0mitertools\u001b[0m \u001b[0;32mimport\u001b[0m \u001b[0mchain\u001b[0m\u001b[0;34m\u001b[0m\u001b[0;34m\u001b[0m\u001b[0m\n\u001b[0;32m----> 5\u001b[0;31m \u001b[0;32mfrom\u001b[0m \u001b[0mrecommendation_global\u001b[0m \u001b[0;32mimport\u001b[0m \u001b[0mFILE_CB\u001b[0m\u001b[0;34m,\u001b[0m \u001b[0mFILE_GBR\u001b[0m\u001b[0;34m,\u001b[0m \u001b[0mFILE_RF\u001b[0m\u001b[0;34m,\u001b[0m \u001b[0mFILE_SVR\u001b[0m\u001b[0;34m,\u001b[0m \u001b[0mFILE_XGB\u001b[0m\u001b[0;34m,\u001b[0m \u001b[0mFILE_CB_L2\u001b[0m\u001b[0;34m,\u001b[0m \u001b[0mFILE_XGB_L2\u001b[0m\u001b[0;34m,\u001b[0m \u001b[0mFILE_LR_L2\u001b[0m\u001b[0;34m\u001b[0m\u001b[0;34m\u001b[0m\u001b[0m\n\u001b[0m\u001b[1;32m      6\u001b[0m \u001b[0;32mfrom\u001b[0m \u001b[0msklearn\u001b[0m \u001b[0;32mimport\u001b[0m \u001b[0mpreprocessing\u001b[0m\u001b[0;34m\u001b[0m\u001b[0;34m\u001b[0m\u001b[0m\n\u001b[1;32m      7\u001b[0m \u001b[0;32mfrom\u001b[0m \u001b[0msklearn\u001b[0m \u001b[0;32mimport\u001b[0m \u001b[0mmetrics\u001b[0m\u001b[0;34m\u001b[0m\u001b[0;34m\u001b[0m\u001b[0m\n",
      "\u001b[0;31mImportError\u001b[0m: cannot import name 'FILE_LR_L2' from 'recommendation_global' (/Users/lookaz/Documents/NUS IT/job_logs/model_development/recommendation_global.py)"
     ]
    }
   ],
   "source": [
    "TEST_FILE = 'e_11072019_07.pkl'\n",
    "\n",
    "from ai_cloud_etl import data_extract_e, data_filter, feature_eng, feature_transform, extract_queues, fit_labels, save_data, load_data\n",
    "from ai_cloud_model import load_model, load_models, l2_predict\n",
    "\n",
    "# Data Extraction\n",
    "df = data_extract_e(TEST_FILE)\n",
    "\n",
    "# Data Transformation and Engineering\n",
    "df = feature_eng(df)\n",
    "df = extract_queues(df)\n",
    "dept_encoder, queue_encoder, user_encoder = fit_labels(df)\n",
    "df = feature_transform(df, dept_encoder=dept_encoder, queue_encoder=queue_encoder, user_encoder=user_encoder)\n",
    "x, y = data_filter(df)\n",
    "\n",
    "models = load_models()\n",
    "l2_model = load_model(model_name='xgb_l2')\n",
    "\n",
    "y_pred = l2_predict(models=models, l2_model=l2_model, x=x, multi=True)\n",
    "print(y_pred)"
   ]
  },
  {
   "cell_type": "code",
   "execution_count": null,
   "metadata": {},
   "outputs": [],
   "source": []
  }
 ],
 "metadata": {
  "kernelspec": {
   "display_name": "Python 3",
   "language": "python",
   "name": "python3"
  },
  "language_info": {
   "codemirror_mode": {
    "name": "ipython",
    "version": 3
   },
   "file_extension": ".py",
   "mimetype": "text/x-python",
   "name": "python",
   "nbconvert_exporter": "python",
   "pygments_lexer": "ipython3",
   "version": "3.7.2"
  }
 },
 "nbformat": 4,
 "nbformat_minor": 2
}
