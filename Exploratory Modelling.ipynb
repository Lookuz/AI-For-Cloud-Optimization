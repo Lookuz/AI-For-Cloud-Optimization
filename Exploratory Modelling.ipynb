{
 "cells": [
  {
   "cell_type": "code",
   "execution_count": 31,
   "metadata": {},
   "outputs": [],
   "source": [
    "import pandas as pd\n",
    "import write_csv\n",
    "import matplotlib as mpl\n",
    "import matplotlib.pyplot as plt\n",
    "import numpy as np\n",
    "from sklearn import preprocessing\n",
    "from sklearn.model_selection import train_test_split\n",
    "from sklearn.linear_model import LinearRegression\n",
    "from sklearn import metrics\n",
    "from sklearn.svm import SVR\n",
    "from sklearn.ensemble import BaggingRegressor\n",
    "from sklearn.ensemble import AdaBoostRegressor\n",
    "from xgboost import XGBRegressor"
   ]
  },
  {
   "cell_type": "code",
   "execution_count": 2,
   "metadata": {},
   "outputs": [],
   "source": [
    "# Global Variables\n",
    "whitelist_cols_e = ['Resource_List.ncpus', 'Resource_List.mem', 'resources_used.cput', 'queue', \n",
    "                      'resources_used.mem', 'dept', 'resources_used.walltime', 'Resource_List.mpiprocs', \n",
    "                  'job_id', 'user']\n",
    "whitelist_cols_q = ['job_id', 'datetime']\n",
    "dept_encoder = preprocessing.LabelEncoder() # Encoding for the dept attribute: Perform fit_labels function to load labels\n",
    "queue_encoder = preprocessing.LabelEncoder() #Encoding for the queue attribute: Perform fit_labels funciton to load labels"
   ]
  },
  {
   "cell_type": "code",
   "execution_count": 3,
   "metadata": {},
   "outputs": [],
   "source": [
    "# Extracts the necessary columns from the dataset\n",
    "def extract_cols(df, whitelist_cols):\n",
    "    return df[whitelist_cols]"
   ]
  },
  {
   "cell_type": "code",
   "execution_count": 4,
   "metadata": {},
   "outputs": [],
   "source": [
    "# Extracts necessary queues for the dataset\n",
    "# Extracted queues are as in the whitelist_queues attribute\n",
    "def extract_queues(df):\n",
    "    whitelist_queues = ['parallel12', 'serial', 'parallel20', 'parallel8', 'short', \n",
    "                        'parallel24', 'openmp', 'serial']\n",
    "    return df[df['queue'].isin(whitelist_queues)]"
   ]
  },
  {
   "cell_type": "code",
   "execution_count": 5,
   "metadata": {},
   "outputs": [],
   "source": [
    "# Creates new features to identify relations in data\n",
    "def feature_eng(df):\n",
    "    # CPU Efficiency\n",
    "    # Created by taking CPU time over total time, giving estimate of number of cores used. \n",
    "    # Then, divide by CPUs requested\n",
    "    cpu_efficiency = (df['resources_used.cput']/df['resources_used.walltime'])/df['Resource_List.ncpus']\n",
    "    df['cpu_efficiency_eng'] = cpu_efficiency\n",
    "    \n",
    "    # CPU usage\n",
    "    # Gauged using the CPU usage of the process\n",
    "    # Current implementation uses cpupercent/100 -> derive the estimated number of cores used\n",
    "    cpu_cores_used = df['resources_used.cput']/df['resources_used.walltime']\n",
    "    df['estimated_cores_used_eng'] = cpu_cores_used\n",
    "    \n",
    "    # Remove NaN from feature engineering\n",
    "    df['cpu_efficiency_eng'].fillna(0, inplace=True)\n",
    "    df['estimated_cores_used_eng'].fillna(0, inplace=True)\n",
    "    \n",
    "    return df"
   ]
  },
  {
   "cell_type": "code",
   "execution_count": 6,
   "metadata": {},
   "outputs": [],
   "source": [
    "# Load labels for LabelEncoder objects\n",
    "def fit_labels(df):\n",
    "    # Fit categorical attributes into numerical labels\n",
    "    dept_encoder.fit(df['dept'])\n",
    "    queue_encoder.fit(df['queue'])"
   ]
  },
  {
   "cell_type": "code",
   "execution_count": 7,
   "metadata": {},
   "outputs": [],
   "source": [
    "# Function that performs the necessary transformation on the data\n",
    "def feature_transform(df):\n",
    "    # Requested memory scaling\n",
    "    # Requested memory observed to have long tail distribution\n",
    "    # Use logarithmic scaling\n",
    "    df['Resource_List.mem'] = df['Resource_List.mem'].apply(lambda x: np.log2(x))\n",
    "    \n",
    "    # Request mpiprocs\n",
    "    # Requested mpiprocs observed to have long tail distribution\n",
    "    # Square root scaling performed due to presence of 0 valued attributes\n",
    "    df['Resource_List.mpiprocs'] = df['Resource_List.mpiprocs'].apply(lambda x : np.sqrt(x))\n",
    "    \n",
    "    # Transform dept and queue attributes to numerical encoding.\n",
    "    # Preconditions: Performed fit_labels function before this function call\n",
    "    df['queue'] = queue_encoder.transform(df['queue'])\n",
    "    df['dept'] = dept_encoder.transform(df['dept'])\n",
    "    \n",
    "    return df"
   ]
  },
  {
   "cell_type": "code",
   "execution_count": 8,
   "metadata": {},
   "outputs": [],
   "source": [
    "# Data Extraction\n",
    "df_q = pd.DataFrame()\n",
    "df_q = df_q.append(write_csv.read_pkl('q_20190509v3.pkl')[0], sort=True)\n",
    "df_q = extract_cols(df_q, whitelist_cols_q)\n",
    "df_e = pd.DataFrame()\n",
    "df_e = df_e.append(write_csv.read_pkl('e_20190509v3.pkl')[0], sort=True)\n",
    "df_e = extract_cols(df_e, whitelist_cols_e)\n",
    "\n",
    "df = df_e.merge(df_q, on='job_id', how='inner') # Merge Q and E logs"
   ]
  },
  {
   "cell_type": "code",
   "execution_count": 9,
   "metadata": {},
   "outputs": [],
   "source": [
    "# Data Transformation and Engineering\n",
    "df = feature_eng(df)\n",
    "df = extract_queues(df)\n",
    "fit_labels(df)\n",
    "df = feature_transform(df)"
   ]
  },
  {
   "cell_type": "code",
   "execution_count": 10,
   "metadata": {},
   "outputs": [],
   "source": [
    "# Exploratory Modelling\n",
    "# Training/Test Split\n",
    "whitelist_cols_x = ['Resource_List.ncpus', 'Resource_List.mem', 'queue', 'dept', \n",
    "                       'Resource_List.mpiprocs']\n",
    "whitelist_cols_y = ['estimated_cores_used_eng']\n",
    "x = df[whitelist_cols_x]\n",
    "y = df[whitelist_cols_y]\n",
    "x_train, x_test, y_train, y_test = train_test_split(x, y, test_size=0.2, random_state=2468)"
   ]
  },
  {
   "cell_type": "markdown",
   "metadata": {},
   "source": [
    "### Linear Regression\n",
    "Used as performance benchmark for the rest of the models tested"
   ]
  },
  {
   "cell_type": "code",
   "execution_count": 11,
   "metadata": {},
   "outputs": [
    {
     "name": "stdout",
     "output_type": "stream",
     "text": [
      "Linear Regression R2 Training score:  0.4851355682008523\n",
      "Linear Regression Training MSE:  27.300621143455825\n"
     ]
    }
   ],
   "source": [
    "# Linear Regression - Used as benchmark\n",
    "linear_regressor = LinearRegression()\n",
    "lr_r2 = linear_regressor.fit(x_train, y_train).score(x_train, y_train) # R2 Score\n",
    "print('Linear Regression R2 Training score: ', lr_r2)\n",
    "\n",
    "y_pred = linear_regressor.predict(x_train)\n",
    "print('Linear Regression Training MSE: ', metrics.mean_squared_error(y_pred, y_train)) # Training error"
   ]
  },
  {
   "cell_type": "code",
   "execution_count": 12,
   "metadata": {},
   "outputs": [
    {
     "name": "stdout",
     "output_type": "stream",
     "text": [
      "Linear Regression R2 Training score:  0.45431821754790774\n",
      "Linear Regression Test MSE:  29.860654289301387\n"
     ]
    }
   ],
   "source": [
    "y_pred = linear_regressor.predict(x_test)\n",
    "lr_r2 = linear_regressor.score(x_test, y_test)\n",
    "print('Linear Regression R2 Training score: ', lr_r2)\n",
    "print('Linear Regression Test MSE: ', metrics.mean_squared_error(y_pred, y_test))"
   ]
  },
  {
   "cell_type": "markdown",
   "metadata": {},
   "source": [
    "### Support Vector Machines\n",
    "Kernels used:\n",
    "- Linear Kernel\n",
    "- RBF Kernel\n",
    "- Sigmoid Kernel"
   ]
  },
  {
   "cell_type": "code",
   "execution_count": 13,
   "metadata": {},
   "outputs": [
    {
     "name": "stderr",
     "output_type": "stream",
     "text": [
      "/usr/local/lib/python3.7/site-packages/sklearn/utils/validation.py:724: DataConversionWarning: A column-vector y was passed when a 1d array was expected. Please change the shape of y to (n_samples, ), for example using ravel().\n",
      "  y = column_or_1d(y, warn=True)\n"
     ]
    },
    {
     "name": "stdout",
     "output_type": "stream",
     "text": [
      "Linear SVR R2 Training score:  -0.7445956867339016\n"
     ]
    }
   ],
   "source": [
    "# SVR\n",
    "# Linear Kernel\n",
    "svr_linear = SVR(kernel='linear', C=100, gamma=0.1)\n",
    "svr_linear = svr_linear.fit(x_train, y_train)\n",
    "svr_lin_r2 = svr_linear.score(x_train, y_train)\n",
    "print('Linear SVR R2 Training score: ', svr_lin_r2)"
   ]
  },
  {
   "cell_type": "code",
   "execution_count": 16,
   "metadata": {},
   "outputs": [
    {
     "name": "stderr",
     "output_type": "stream",
     "text": [
      "/usr/local/lib/python3.7/site-packages/sklearn/utils/validation.py:724: DataConversionWarning: A column-vector y was passed when a 1d array was expected. Please change the shape of y to (n_samples, ), for example using ravel().\n",
      "  y = column_or_1d(y, warn=True)\n"
     ]
    },
    {
     "name": "stdout",
     "output_type": "stream",
     "text": [
      "RBF SVR R2 Training score:  0.6514104992662247\n",
      "RBF SVR R2 Training MSE:  18.483914029298788\n"
     ]
    }
   ],
   "source": [
    "# RBF Kernel\n",
    "svr_rbf = SVR(kernel='rbf', C=100, gamma=0.1)\n",
    "svr_rbf = svr_rbf.fit(x_train, y_train)\n",
    "svr_rbf_r2 = svr_rbf.score(x_train, y_train)\n",
    "print('RBF SVR R2 Training score: ', svr_rbf_r2)\n",
    "\n",
    "y_pred = svr_rbf.predict(x_train)\n",
    "print('RBF SVR R2 Training MSE: ', metrics.mean_squared_error(y_pred, y_train))"
   ]
  },
  {
   "cell_type": "code",
   "execution_count": 17,
   "metadata": {},
   "outputs": [
    {
     "name": "stdout",
     "output_type": "stream",
     "text": [
      "RBF SVR R2 Test score:  0.5288172638764143\n",
      "RBF SVR R2 Training MSE:  25.783937164346813\n"
     ]
    }
   ],
   "source": [
    "y_pred = svr_rbf.predict(x_test)\n",
    "svr_rbf_r2 = svr_rbf.score(x_test, y_test)\n",
    "print('RBF SVR R2 Test score: ', svr_rbf_r2)\n",
    "print('RBF SVR R2 Training MSE: ', metrics.mean_squared_error(y_pred, y_test))"
   ]
  },
  {
   "cell_type": "code",
   "execution_count": 18,
   "metadata": {},
   "outputs": [
    {
     "name": "stderr",
     "output_type": "stream",
     "text": [
      "/usr/local/lib/python3.7/site-packages/sklearn/utils/validation.py:724: DataConversionWarning: A column-vector y was passed when a 1d array was expected. Please change the shape of y to (n_samples, ), for example using ravel().\n",
      "  y = column_or_1d(y, warn=True)\n"
     ]
    },
    {
     "name": "stdout",
     "output_type": "stream",
     "text": [
      "Sigmoid SVR R2 Training score:  -0.41016277610358043\n",
      "Sigmoid SVR Training MSE:  74.77370220832469\n"
     ]
    }
   ],
   "source": [
    "# Sigmoid Kernel\n",
    "svr_sigmoid = SVR(kernel='sigmoid', C=100, gamma=0.1)\n",
    "svr_sigmoid = svr_sigmoid.fit(x_train, y_train)\n",
    "svr_sigmoid_r2 = svr_sigmoid.score(x_train, y_train)\n",
    "print('Sigmoid SVR R2 Training score: ', svr_sigmoid_r2)\n",
    "\n",
    "y_pred = svr_sigmoid.predict(x_train)\n",
    "print('Sigmoid SVR Training MSE: ', metrics.mean_squared_error(y_pred, y_train))"
   ]
  },
  {
   "cell_type": "markdown",
   "metadata": {},
   "source": [
    "### Bagged Decison Trees"
   ]
  },
  {
   "cell_type": "code",
   "execution_count": 21,
   "metadata": {},
   "outputs": [
    {
     "name": "stderr",
     "output_type": "stream",
     "text": [
      "/usr/local/lib/python3.7/site-packages/sklearn/ensemble/bagging.py:398: DataConversionWarning: A column-vector y was passed when a 1d array was expected. Please change the shape of y to (n_samples, ), for example using ravel().\n",
      "  return column_or_1d(y, warn=True)\n"
     ]
    },
    {
     "name": "stdout",
     "output_type": "stream",
     "text": [
      "Bagging Regressor R2 Training score:  0.7537269581793223\n",
      "Bagging Regressor Training MSE:  13.058596782649031\n"
     ]
    }
   ],
   "source": [
    "# Bagging Regressor\n",
    "bag_reg = BaggingRegressor(n_estimators=50)\n",
    "bag_reg = bag_reg.fit(x_train, y_train)\n",
    "bag_reg_r2 = bag_reg.score(x_train, y_train)\n",
    "print('Bagging Regressor R2 Training score: ', bag_reg_r2)\n",
    "\n",
    "y_pred = bag_reg.predict(x_train)\n",
    "print('Bagging Regressor Training MSE: ', metrics.mean_squared_error(y_pred, y_train))"
   ]
  },
  {
   "cell_type": "code",
   "execution_count": 22,
   "metadata": {},
   "outputs": [
    {
     "name": "stdout",
     "output_type": "stream",
     "text": [
      "Bagging Regressor R2 Test score:  0.6663909049103394\n",
      "Bagging Regressor Training MSE:  18.25566873695956\n"
     ]
    }
   ],
   "source": [
    "bag_reg_r2 = bag_reg.score(x_test, y_test)\n",
    "y_pred = bag_reg.predict(x_test)\n",
    "print('Bagging Regressor R2 Test score: ', bag_reg_r2)\n",
    "print('Bagging Regressor Training MSE: ', metrics.mean_squared_error(y_pred, y_test))"
   ]
  },
  {
   "cell_type": "markdown",
   "metadata": {},
   "source": [
    "### AdaBoost"
   ]
  },
  {
   "cell_type": "code",
   "execution_count": 28,
   "metadata": {},
   "outputs": [
    {
     "name": "stdout",
     "output_type": "stream",
     "text": [
      "AdaBoost R2 Training score:  0.5329475884202431\n",
      "AdaBoost Training MSE:  24.765394840190726\n"
     ]
    },
    {
     "name": "stderr",
     "output_type": "stream",
     "text": [
      "/usr/local/lib/python3.7/site-packages/sklearn/utils/validation.py:724: DataConversionWarning: A column-vector y was passed when a 1d array was expected. Please change the shape of y to (n_samples, ), for example using ravel().\n",
      "  y = column_or_1d(y, warn=True)\n"
     ]
    }
   ],
   "source": [
    "# AdaBoost\n",
    "adaboost = AdaBoostRegressor(n_estimators=100)\n",
    "adaboost = adaboost.fit(x_train, y_train)\n",
    "adaboost_r2 = adaboost.score(x_train, y_train)\n",
    "print('AdaBoost R2 Training score: ', adaboost_r2)\n",
    "\n",
    "y_pred = adaboost.predict(x_train)\n",
    "print('AdaBoost Training MSE: ', metrics.mean_squared_error(y_pred, y_train))"
   ]
  },
  {
   "cell_type": "code",
   "execution_count": 29,
   "metadata": {},
   "outputs": [
    {
     "name": "stdout",
     "output_type": "stream",
     "text": [
      "AdaBoost R2 Test score:  0.49104357436085283\n",
      "AdaBoost Test MSE:  27.850979019376336\n"
     ]
    }
   ],
   "source": [
    "adaboost_r2 = adaboost.score(x_test, y_test)\n",
    "y_pred = adaboost.predict(x_test)\n",
    "print('AdaBoost R2 Test score: ', adaboost_r2)\n",
    "print('AdaBoost Test MSE: ', metrics.mean_squared_error(y_pred, y_test))"
   ]
  },
  {
   "cell_type": "markdown",
   "metadata": {},
   "source": [
    "### XGBoost"
   ]
  },
  {
   "cell_type": "code",
   "execution_count": 34,
   "metadata": {},
   "outputs": [
    {
     "name": "stdout",
     "output_type": "stream",
     "text": [
      "[11:13:24] WARNING: src/objective/regression_obj.cu:152: reg:linear is now deprecated in favor of reg:squarederror.\n",
      "XGBoost R2 Training score:  0.6765942894173518\n",
      "XGBoost Training MSE:  17.14854675316031\n"
     ]
    }
   ],
   "source": [
    "# XGBoost\n",
    "xgb = XGBRegressor(objective='reg:squarederror', n_estimators=100, learning_rate=0.1)\n",
    "xgb = xgb.fit(x_train, y_train)\n",
    "xgb_r2 = xgb.score(x_train, y_train)\n",
    "print('XGBoost R2 Training score: ', xgb_r2)\n",
    "\n",
    "y_pred = xgb.predict(x_train)\n",
    "print('XGBoost Training MSE: ', metrics.mean_squared_error(y_pred, y_train))"
   ]
  },
  {
   "cell_type": "code",
   "execution_count": 35,
   "metadata": {},
   "outputs": [
    {
     "name": "stdout",
     "output_type": "stream",
     "text": [
      "XGBoost R2 Test score:  0.6146875348562035\n",
      "XGBoost Test MSE:  21.08496688915491\n"
     ]
    }
   ],
   "source": [
    "xgb_r2 = xgb.score(x_test, y_test)\n",
    "y_pred = xgb.predict(x_test)\n",
    "print('XGBoost R2 Test score: ', xgb_r2)\n",
    "print('XGBoost Test MSE: ', metrics.mean_squared_error(y_pred, y_test))"
   ]
  },
  {
   "cell_type": "markdown",
   "metadata": {},
   "source": []
  }
 ],
 "metadata": {
  "kernelspec": {
   "display_name": "Python 3",
   "language": "python",
   "name": "python3"
  },
  "language_info": {
   "codemirror_mode": {
    "name": "ipython",
    "version": 3
   },
   "file_extension": ".py",
   "mimetype": "text/x-python",
   "name": "python",
   "nbconvert_exporter": "python",
   "pygments_lexer": "ipython3",
   "version": "3.7.2"
  }
 },
 "nbformat": 4,
 "nbformat_minor": 2
}
